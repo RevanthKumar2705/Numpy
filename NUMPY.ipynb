{
 "cells": [
  {
   "cell_type": "code",
   "execution_count": null,
   "id": "6f066c97",
   "metadata": {},
   "outputs": [],
   "source": [
    "##LISTS are very \"SLOW\" becoz it depends on several factors like size,reference count, obj type, obj value\n",
    "## where as \"NUMPY\" are very \"fast\" has less bytes of memory.\n",
    "## APPLICATIONS: are, Mathematics, Plotting(Mathplotlib), Backend(Pandas, Connect 4, Digital Photography), ML.........\n",
    "## \"NUMPY\" is \"Contiguous Memory\""
   ]
  },
  {
   "cell_type": "code",
   "execution_count": null,
   "id": "427686ea",
   "metadata": {},
   "outputs": [],
   "source": [
    "import numpy as np "
   ]
  },
  {
   "cell_type": "markdown",
   "id": "a8df4401",
   "metadata": {},
   "source": [
    "# The Basics"
   ]
  },
  {
   "cell_type": "code",
   "execution_count": null,
   "id": "09b45f7d",
   "metadata": {},
   "outputs": [],
   "source": [
    "a = np.array([1,2,3])\n",
    "print(a)"
   ]
  },
  {
   "cell_type": "code",
   "execution_count": null,
   "id": "c20f3693",
   "metadata": {},
   "outputs": [],
   "source": [
    "b = np.array([[1.2,1.3,1.4,1.5],[2.6,2.7,2.8,2.9]])\n",
    "print(b)"
   ]
  },
  {
   "cell_type": "code",
   "execution_count": null,
   "id": "ab04aac8",
   "metadata": {},
   "outputs": [],
   "source": [
    "## Getting Dimensions\n",
    "a.ndim"
   ]
  },
  {
   "cell_type": "code",
   "execution_count": null,
   "id": "a4f5c68c",
   "metadata": {},
   "outputs": [],
   "source": [
    "b.ndim"
   ]
  },
  {
   "cell_type": "code",
   "execution_count": null,
   "id": "5306b505",
   "metadata": {},
   "outputs": [],
   "source": [
    "## Getting Shape\n",
    "b.shape"
   ]
  },
  {
   "cell_type": "code",
   "execution_count": null,
   "id": "80f5dccc",
   "metadata": {},
   "outputs": [],
   "source": [
    "## Getting type\n",
    "a.dtype"
   ]
  },
  {
   "cell_type": "code",
   "execution_count": null,
   "id": "af04393e",
   "metadata": {},
   "outputs": [],
   "source": [
    "# Get size\n",
    "a.itemsize"
   ]
  },
  {
   "cell_type": "code",
   "execution_count": null,
   "id": "5755507a",
   "metadata": {},
   "outputs": [],
   "source": [
    "# for obj a size?\n",
    "a.size"
   ]
  },
  {
   "cell_type": "code",
   "execution_count": null,
   "id": "93b392c7",
   "metadata": {},
   "outputs": [],
   "source": [
    "## For total Size multiply a.itemsize * a.size or \"a.nbytes\" u can use this cmd\n",
    "a.size * a.itemsize"
   ]
  },
  {
   "cell_type": "markdown",
   "id": "7b7a78f5",
   "metadata": {},
   "source": [
    "# Accessing / Changing Specific elements,rows, columns, etc.........."
   ]
  },
  {
   "cell_type": "code",
   "execution_count": null,
   "id": "4f5e5e1c",
   "metadata": {},
   "outputs": [],
   "source": [
    "a = np.array([[1,2,3,4,5,6,7],[8,9,10,11,12,13,14]])\n",
    "print(a)"
   ]
  },
  {
   "cell_type": "code",
   "execution_count": null,
   "id": "05c38a6d",
   "metadata": {},
   "outputs": [],
   "source": [
    "# Getting specific element [r , c] also u can use -ve indices\n",
    "a[1,5]"
   ]
  },
  {
   "cell_type": "code",
   "execution_count": null,
   "id": "0e8ed2f3",
   "metadata": {},
   "outputs": [],
   "source": [
    "# Get a specific row\n",
    "a[0,:]"
   ]
  },
  {
   "cell_type": "code",
   "execution_count": null,
   "id": "67beb40d",
   "metadata": {},
   "outputs": [],
   "source": [
    "#  Specific column\n",
    "a[:,2]"
   ]
  },
  {
   "cell_type": "code",
   "execution_count": null,
   "id": "e633f2f0",
   "metadata": {},
   "outputs": [],
   "source": [
    "## Getting a little more fancy [start index:end index:stepsize]\n",
    "##print in a as 2,4,6\n",
    "a[0, 1:6:2]"
   ]
  },
  {
   "cell_type": "code",
   "execution_count": null,
   "id": "7a1c1f8d",
   "metadata": {},
   "outputs": [],
   "source": [
    "#changing values in a array\n",
    "a[1,5] = 20\n",
    "a"
   ]
  },
  {
   "cell_type": "markdown",
   "id": "f194972c",
   "metadata": {},
   "source": [
    "# Intializing Different Tyes of Arrays"
   ]
  },
  {
   "cell_type": "code",
   "execution_count": null,
   "id": "3997c2f6",
   "metadata": {},
   "outputs": [],
   "source": [
    "##All Zero's matrix\n",
    "np.zeros((2,3))"
   ]
  },
  {
   "cell_type": "code",
   "execution_count": null,
   "id": "848e716f",
   "metadata": {},
   "outputs": [],
   "source": [
    "## all ones\n",
    "np.ones((4,2,2), dtype = 'int32')"
   ]
  },
  {
   "cell_type": "code",
   "execution_count": null,
   "id": "97354002",
   "metadata": {},
   "outputs": [],
   "source": [
    "##anu other num\n",
    "np.full((2,2), 99)"
   ]
  },
  {
   "cell_type": "code",
   "execution_count": null,
   "id": "603cb3c7",
   "metadata": {},
   "outputs": [],
   "source": [
    "## Identity Matrix\n",
    "np.identity(3, dtype = int)"
   ]
  },
  {
   "cell_type": "code",
   "execution_count": null,
   "id": "344b6ac3",
   "metadata": {},
   "outputs": [],
   "source": [
    "### BASIC MATH OPERATIONS CAN BE DONE"
   ]
  },
  {
   "cell_type": "markdown",
   "id": "87ed55aa",
   "metadata": {},
   "source": [
    "### LINEAR ALGEBRA "
   ]
  },
  {
   "cell_type": "code",
   "execution_count": 11,
   "id": "e06ab6eb",
   "metadata": {},
   "outputs": [
    {
     "name": "stdout",
     "output_type": "stream",
     "text": [
      "[[1. 1. 1.]\n",
      " [1. 1. 1.]]\n",
      "[[2 2]\n",
      " [2 2]\n",
      " [2 2]]\n"
     ]
    },
    {
     "ename": "AttributeError",
     "evalue": "module 'numpy' has no attribute 'mathmul'",
     "output_type": "error",
     "traceback": [
      "\u001b[1;31m---------------------------------------------------------------------------\u001b[0m",
      "\u001b[1;31mAttributeError\u001b[0m                            Traceback (most recent call last)",
      "\u001b[1;32m~\\AppData\\Local\\Temp\\ipykernel_6084\\1970097440.py\u001b[0m in \u001b[0;36m<module>\u001b[1;34m\u001b[0m\n\u001b[0;32m      8\u001b[0m \u001b[1;33m\u001b[0m\u001b[0m\n\u001b[0;32m      9\u001b[0m \u001b[1;31m##perhaps we can use matmul func\u001b[0m\u001b[1;33m\u001b[0m\u001b[1;33m\u001b[0m\u001b[0m\n\u001b[1;32m---> 10\u001b[1;33m \u001b[0mnp\u001b[0m\u001b[1;33m.\u001b[0m\u001b[0mmathmul\u001b[0m\u001b[1;33m(\u001b[0m\u001b[0ma\u001b[0m\u001b[1;33m,\u001b[0m\u001b[0mb\u001b[0m\u001b[1;33m)\u001b[0m\u001b[1;33m\u001b[0m\u001b[1;33m\u001b[0m\u001b[0m\n\u001b[0m",
      "\u001b[1;32m~\\anaconda3\\lib\\site-packages\\numpy\\__init__.py\u001b[0m in \u001b[0;36m__getattr__\u001b[1;34m(attr)\u001b[0m\n\u001b[0;32m    318\u001b[0m             \u001b[1;32mreturn\u001b[0m \u001b[0mTester\u001b[0m\u001b[1;33m\u001b[0m\u001b[1;33m\u001b[0m\u001b[0m\n\u001b[0;32m    319\u001b[0m \u001b[1;33m\u001b[0m\u001b[0m\n\u001b[1;32m--> 320\u001b[1;33m         raise AttributeError(\"module {!r} has no attribute \"\n\u001b[0m\u001b[0;32m    321\u001b[0m                              \"{!r}\".format(__name__, attr))\n\u001b[0;32m    322\u001b[0m \u001b[1;33m\u001b[0m\u001b[0m\n",
      "\u001b[1;31mAttributeError\u001b[0m: module 'numpy' has no attribute 'mathmul'"
     ]
    }
   ],
   "source": [
    "a = np.ones((2,3))\n",
    "print(a)\n",
    "\n",
    "b = np.full((3,2), 2)\n",
    "print(b)\n",
    "\n",
    "##if we do a*b it won't work becoz of diff size of a and b\n",
    "\n",
    "##perhaps we can use matmul func\n",
    "np.mathmul(a,b)"
   ]
  },
  {
   "cell_type": "code",
   "execution_count": 12,
   "id": "128ae679",
   "metadata": {},
   "outputs": [
    {
     "data": {
      "text/plain": [
       "1.0"
      ]
     },
     "execution_count": 12,
     "metadata": {},
     "output_type": "execute_result"
    }
   ],
   "source": [
    "## USING NUMY WE CAN DO MANY OPERSTIONS FROM LINEAR ALGEBRA\n",
    "## find the det of indentity matrix\n",
    "c = np.identity(3)\n",
    "np.linalg.det(c)"
   ]
  },
  {
   "cell_type": "markdown",
   "id": "6b43898c",
   "metadata": {},
   "source": [
    "## STATISTICS"
   ]
  },
  {
   "cell_type": "code",
   "execution_count": 14,
   "id": "c7af5392",
   "metadata": {},
   "outputs": [
    {
     "data": {
      "text/plain": [
       "array([[1, 2, 3],\n",
       "       [4, 5, 6]])"
      ]
     },
     "execution_count": 14,
     "metadata": {},
     "output_type": "execute_result"
    }
   ],
   "source": [
    "## we can do mean, mode, avg like that\n",
    "stats = np.array([[1,2,3],[4,5,6]])\n",
    "stats"
   ]
  },
  {
   "cell_type": "code",
   "execution_count": 15,
   "id": "c5233df6",
   "metadata": {},
   "outputs": [
    {
     "data": {
      "text/plain": [
       "1"
      ]
     },
     "execution_count": 15,
     "metadata": {},
     "output_type": "execute_result"
    }
   ],
   "source": [
    "np.min(stats)"
   ]
  },
  {
   "cell_type": "code",
   "execution_count": 16,
   "id": "7d9982fc",
   "metadata": {},
   "outputs": [
    {
     "data": {
      "text/plain": [
       "6"
      ]
     },
     "execution_count": 16,
     "metadata": {},
     "output_type": "execute_result"
    }
   ],
   "source": [
    "np.max(stats)"
   ]
  },
  {
   "cell_type": "code",
   "execution_count": 17,
   "id": "8541446a",
   "metadata": {},
   "outputs": [
    {
     "data": {
      "text/plain": [
       "21"
      ]
     },
     "execution_count": 17,
     "metadata": {},
     "output_type": "execute_result"
    }
   ],
   "source": [
    "np.sum(stats)"
   ]
  },
  {
   "cell_type": "markdown",
   "id": "6c6422c7",
   "metadata": {},
   "source": [
    "### REORGANIZING ARRAYS"
   ]
  },
  {
   "cell_type": "code",
   "execution_count": 19,
   "id": "848e5ba6",
   "metadata": {},
   "outputs": [
    {
     "name": "stdout",
     "output_type": "stream",
     "text": [
      "(2, 4)\n",
      "[[1 2]\n",
      " [3 4]\n",
      " [5 6]\n",
      " [7 8]]\n"
     ]
    }
   ],
   "source": [
    "before = np.array([[1,2,3,4],[5,6,7,8]])\n",
    "print(before.shape)\n",
    "\n",
    "after = before.reshape((4,2))\n",
    "print(after)"
   ]
  },
  {
   "cell_type": "code",
   "execution_count": null,
   "id": "938fa8e1",
   "metadata": {},
   "outputs": [],
   "source": [
    " "
   ]
  }
 ],
 "metadata": {
  "kernelspec": {
   "display_name": "Python 3 (ipykernel)",
   "language": "python",
   "name": "python3"
  },
  "language_info": {
   "codemirror_mode": {
    "name": "ipython",
    "version": 3
   },
   "file_extension": ".py",
   "mimetype": "text/x-python",
   "name": "python",
   "nbconvert_exporter": "python",
   "pygments_lexer": "ipython3",
   "version": "3.9.13"
  }
 },
 "nbformat": 4,
 "nbformat_minor": 5
}
